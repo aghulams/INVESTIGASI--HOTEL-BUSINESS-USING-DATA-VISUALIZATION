{
 "cells": [
  {
   "cell_type": "markdown",
   "id": "c571f74d",
   "metadata": {},
   "source": [
    "# DATA PREPROCESSING"
   ]
  },
  {
   "cell_type": "code",
   "execution_count": 80,
   "id": "7f9456d1",
   "metadata": {},
   "outputs": [],
   "source": [
    "import pandas as pd\n",
    "import numpy as np"
   ]
  },
  {
   "cell_type": "code",
   "execution_count": 97,
   "id": "24b19932",
   "metadata": {},
   "outputs": [],
   "source": [
    "hotel_df = pd.read_csv('hotel_bookings_data.csv')"
   ]
  },
  {
   "cell_type": "code",
   "execution_count": 98,
   "id": "ba63fadb",
   "metadata": {},
   "outputs": [
    {
     "data": {
      "text/html": [
       "<div>\n",
       "<style scoped>\n",
       "    .dataframe tbody tr th:only-of-type {\n",
       "        vertical-align: middle;\n",
       "    }\n",
       "\n",
       "    .dataframe tbody tr th {\n",
       "        vertical-align: top;\n",
       "    }\n",
       "\n",
       "    .dataframe thead th {\n",
       "        text-align: right;\n",
       "    }\n",
       "</style>\n",
       "<table border=\"1\" class=\"dataframe\">\n",
       "  <thead>\n",
       "    <tr style=\"text-align: right;\">\n",
       "      <th></th>\n",
       "      <th>hotel</th>\n",
       "      <th>is_canceled</th>\n",
       "      <th>lead_time</th>\n",
       "      <th>arrival_date_year</th>\n",
       "      <th>arrival_date_month</th>\n",
       "      <th>arrival_date_week_number</th>\n",
       "      <th>arrival_date_day_of_month</th>\n",
       "      <th>stays_in_weekend_nights</th>\n",
       "      <th>stays_in_weekdays_nights</th>\n",
       "      <th>adults</th>\n",
       "      <th>...</th>\n",
       "      <th>booking_changes</th>\n",
       "      <th>deposit_type</th>\n",
       "      <th>agent</th>\n",
       "      <th>company</th>\n",
       "      <th>days_in_waiting_list</th>\n",
       "      <th>customer_type</th>\n",
       "      <th>adr</th>\n",
       "      <th>required_car_parking_spaces</th>\n",
       "      <th>total_of_special_requests</th>\n",
       "      <th>reservation_status</th>\n",
       "    </tr>\n",
       "  </thead>\n",
       "  <tbody>\n",
       "    <tr>\n",
       "      <th>109541</th>\n",
       "      <td>City Hotel</td>\n",
       "      <td>0</td>\n",
       "      <td>14</td>\n",
       "      <td>2019</td>\n",
       "      <td>June</td>\n",
       "      <td>15</td>\n",
       "      <td>12</td>\n",
       "      <td>0</td>\n",
       "      <td>1</td>\n",
       "      <td>2</td>\n",
       "      <td>...</td>\n",
       "      <td>0</td>\n",
       "      <td>No Deposit</td>\n",
       "      <td>9.0</td>\n",
       "      <td>NaN</td>\n",
       "      <td>0</td>\n",
       "      <td>Personal</td>\n",
       "      <td>224.00</td>\n",
       "      <td>0</td>\n",
       "      <td>0</td>\n",
       "      <td>Check-Out</td>\n",
       "    </tr>\n",
       "    <tr>\n",
       "      <th>56372</th>\n",
       "      <td>City Hotel</td>\n",
       "      <td>1</td>\n",
       "      <td>30</td>\n",
       "      <td>2018</td>\n",
       "      <td>November</td>\n",
       "      <td>37</td>\n",
       "      <td>4</td>\n",
       "      <td>2</td>\n",
       "      <td>0</td>\n",
       "      <td>2</td>\n",
       "      <td>...</td>\n",
       "      <td>0</td>\n",
       "      <td>No Deposit</td>\n",
       "      <td>9.0</td>\n",
       "      <td>NaN</td>\n",
       "      <td>0</td>\n",
       "      <td>Personal</td>\n",
       "      <td>110.97</td>\n",
       "      <td>0</td>\n",
       "      <td>0</td>\n",
       "      <td>Canceled</td>\n",
       "    </tr>\n",
       "    <tr>\n",
       "      <th>37365</th>\n",
       "      <td>Resort Hotel</td>\n",
       "      <td>0</td>\n",
       "      <td>11</td>\n",
       "      <td>2019</td>\n",
       "      <td>August</td>\n",
       "      <td>24</td>\n",
       "      <td>11</td>\n",
       "      <td>2</td>\n",
       "      <td>2</td>\n",
       "      <td>2</td>\n",
       "      <td>...</td>\n",
       "      <td>0</td>\n",
       "      <td>No Deposit</td>\n",
       "      <td>241.0</td>\n",
       "      <td>NaN</td>\n",
       "      <td>0</td>\n",
       "      <td>Personal</td>\n",
       "      <td>124.00</td>\n",
       "      <td>0</td>\n",
       "      <td>1</td>\n",
       "      <td>Check-Out</td>\n",
       "    </tr>\n",
       "    <tr>\n",
       "      <th>102057</th>\n",
       "      <td>City Hotel</td>\n",
       "      <td>0</td>\n",
       "      <td>35</td>\n",
       "      <td>2018</td>\n",
       "      <td>January</td>\n",
       "      <td>48</td>\n",
       "      <td>22</td>\n",
       "      <td>0</td>\n",
       "      <td>1</td>\n",
       "      <td>2</td>\n",
       "      <td>...</td>\n",
       "      <td>0</td>\n",
       "      <td>No Deposit</td>\n",
       "      <td>9.0</td>\n",
       "      <td>NaN</td>\n",
       "      <td>0</td>\n",
       "      <td>Personal</td>\n",
       "      <td>79.20</td>\n",
       "      <td>0</td>\n",
       "      <td>1</td>\n",
       "      <td>Check-Out</td>\n",
       "    </tr>\n",
       "    <tr>\n",
       "      <th>82525</th>\n",
       "      <td>City Hotel</td>\n",
       "      <td>0</td>\n",
       "      <td>97</td>\n",
       "      <td>2017</td>\n",
       "      <td>February</td>\n",
       "      <td>53</td>\n",
       "      <td>29</td>\n",
       "      <td>0</td>\n",
       "      <td>3</td>\n",
       "      <td>1</td>\n",
       "      <td>...</td>\n",
       "      <td>0</td>\n",
       "      <td>No Deposit</td>\n",
       "      <td>83.0</td>\n",
       "      <td>NaN</td>\n",
       "      <td>0</td>\n",
       "      <td>Personal</td>\n",
       "      <td>62.00</td>\n",
       "      <td>0</td>\n",
       "      <td>1</td>\n",
       "      <td>Check-Out</td>\n",
       "    </tr>\n",
       "  </tbody>\n",
       "</table>\n",
       "<p>5 rows × 29 columns</p>\n",
       "</div>"
      ],
      "text/plain": [
       "               hotel  is_canceled  lead_time  arrival_date_year  \\\n",
       "109541    City Hotel            0         14               2019   \n",
       "56372     City Hotel            1         30               2018   \n",
       "37365   Resort Hotel            0         11               2019   \n",
       "102057    City Hotel            0         35               2018   \n",
       "82525     City Hotel            0         97               2017   \n",
       "\n",
       "       arrival_date_month  arrival_date_week_number  \\\n",
       "109541               June                        15   \n",
       "56372            November                        37   \n",
       "37365              August                        24   \n",
       "102057            January                        48   \n",
       "82525            February                        53   \n",
       "\n",
       "        arrival_date_day_of_month  stays_in_weekend_nights  \\\n",
       "109541                         12                        0   \n",
       "56372                           4                        2   \n",
       "37365                          11                        2   \n",
       "102057                         22                        0   \n",
       "82525                          29                        0   \n",
       "\n",
       "        stays_in_weekdays_nights  adults  ...  booking_changes  deposit_type  \\\n",
       "109541                         1       2  ...                0    No Deposit   \n",
       "56372                          0       2  ...                0    No Deposit   \n",
       "37365                          2       2  ...                0    No Deposit   \n",
       "102057                         1       2  ...                0    No Deposit   \n",
       "82525                          3       1  ...                0    No Deposit   \n",
       "\n",
       "        agent company days_in_waiting_list customer_type     adr  \\\n",
       "109541    9.0     NaN                    0      Personal  224.00   \n",
       "56372     9.0     NaN                    0      Personal  110.97   \n",
       "37365   241.0     NaN                    0      Personal  124.00   \n",
       "102057    9.0     NaN                    0      Personal   79.20   \n",
       "82525    83.0     NaN                    0      Personal   62.00   \n",
       "\n",
       "        required_car_parking_spaces  total_of_special_requests  \\\n",
       "109541                            0                          0   \n",
       "56372                             0                          0   \n",
       "37365                             0                          1   \n",
       "102057                            0                          1   \n",
       "82525                             0                          1   \n",
       "\n",
       "        reservation_status  \n",
       "109541           Check-Out  \n",
       "56372             Canceled  \n",
       "37365            Check-Out  \n",
       "102057           Check-Out  \n",
       "82525            Check-Out  \n",
       "\n",
       "[5 rows x 29 columns]"
      ]
     },
     "execution_count": 98,
     "metadata": {},
     "output_type": "execute_result"
    }
   ],
   "source": [
    "hotel_df.sample(5)"
   ]
  },
  {
   "cell_type": "markdown",
   "id": "21301267",
   "metadata": {
    "tags": []
   },
   "source": [
    "## Data Exploration"
   ]
  },
  {
   "cell_type": "code",
   "execution_count": 99,
   "id": "d3c74552",
   "metadata": {},
   "outputs": [
    {
     "data": {
      "text/plain": [
       "(119390, 29)"
      ]
     },
     "execution_count": 99,
     "metadata": {},
     "output_type": "execute_result"
    }
   ],
   "source": [
    "# Mengecek jumlah baris dan kolom\n",
    "hotel_df.shape"
   ]
  },
  {
   "cell_type": "code",
   "execution_count": 100,
   "id": "38b8f33d",
   "metadata": {},
   "outputs": [
    {
     "name": "stdout",
     "output_type": "stream",
     "text": [
      "<class 'pandas.core.frame.DataFrame'>\n",
      "RangeIndex: 119390 entries, 0 to 119389\n",
      "Data columns (total 29 columns):\n",
      " #   Column                          Non-Null Count   Dtype  \n",
      "---  ------                          --------------   -----  \n",
      " 0   hotel                           119390 non-null  object \n",
      " 1   is_canceled                     119390 non-null  int64  \n",
      " 2   lead_time                       119390 non-null  int64  \n",
      " 3   arrival_date_year               119390 non-null  int64  \n",
      " 4   arrival_date_month              119390 non-null  object \n",
      " 5   arrival_date_week_number        119390 non-null  int64  \n",
      " 6   arrival_date_day_of_month       119390 non-null  int64  \n",
      " 7   stays_in_weekend_nights         119390 non-null  int64  \n",
      " 8   stays_in_weekdays_nights        119390 non-null  int64  \n",
      " 9   adults                          119390 non-null  int64  \n",
      " 10  children                        119386 non-null  float64\n",
      " 11  babies                          119390 non-null  int64  \n",
      " 12  meal                            119390 non-null  object \n",
      " 13  city                            118902 non-null  object \n",
      " 14  market_segment                  119390 non-null  object \n",
      " 15  distribution_channel            119390 non-null  object \n",
      " 16  is_repeated_guest               119390 non-null  int64  \n",
      " 17  previous_cancellations          119390 non-null  int64  \n",
      " 18  previous_bookings_not_canceled  119390 non-null  int64  \n",
      " 19  booking_changes                 119390 non-null  int64  \n",
      " 20  deposit_type                    119390 non-null  object \n",
      " 21  agent                           103050 non-null  float64\n",
      " 22  company                         6797 non-null    float64\n",
      " 23  days_in_waiting_list            119390 non-null  int64  \n",
      " 24  customer_type                   119390 non-null  object \n",
      " 25  adr                             119390 non-null  float64\n",
      " 26  required_car_parking_spaces     119390 non-null  int64  \n",
      " 27  total_of_special_requests       119390 non-null  int64  \n",
      " 28  reservation_status              119390 non-null  object \n",
      "dtypes: float64(4), int64(16), object(9)\n",
      "memory usage: 26.4+ MB\n"
     ]
    }
   ],
   "source": [
    "# Mengecek info dataset\n",
    "hotel_df.info()"
   ]
  },
  {
   "cell_type": "markdown",
   "id": "8d55f9e6",
   "metadata": {},
   "source": [
    "Terdapat total 29 kolom pada dataset yang digunakan. Berikut adalah daftar kolom beserta keterangannya:\n",
    "\n",
    "1. `hotel`: Nama hotel.\n",
    "2. `is_canceled`: Apakah pemesanan dibatalkan (1) atau tidak (0).\n",
    "3. `lead_time`: Jarak hari antara tanggal pemesanan hingga tanggal kedatangan tamu/pemesan.\n",
    "4. `arrival_date_year`: Tahun kedatangan tamu/pemesan.\n",
    "5. `arrival_date_month`: Bulan kedatangan tamu/pemesan.\n",
    "6. `arrival_date_week_number`: Minggu ke-n (dalam satu tahun) dari kedatangan tamu/pemesan.\n",
    "7. `arrival_date_day_of_month`: Hari ke-n (dalam satu bulan) dari kedatangan tamu/pemesan.\n",
    "8. `stays_in_weekend_nights`: Jumlah malam weekends (Sabtu atau Minggu) tamu/pemesan menginap atau pesan di hotel.\n",
    "9. `stays_in_weekdays_nights` Jumlah malam weekdays (Senin hingga Jumat) tamu/pemesan menginap atau pesan di hotel.\n",
    "10. `adults'`: Jumlah tamu dewasa.\n",
    "11. `children`: Jumlah tamu anak-anak.\n",
    "12. `babies`: Jumlah tamu bayi.\n",
    "13. `meal`: Fasilitas makan yang dipilih.\n",
    "14. `city`: Kota asal tamu/pemesan.\n",
    "15. `market_segment`: Segmen tamu/pemesan. Istilah \"TA\" berarti \"Travel Agent\" dan \"TO\" berarti \"Tour Operators\".\n",
    "16. `distribution_channel`: Kanal distribusi pemesanan. Istilah \"TA\" berarti \"Travel Agent\" dan \"TO\" berarti \"Tour Operators\".\n",
    "17. `is_repeated_guest`: Apakah tamu/pemesan adalah pelanggan berulang (1) atau bukan (0).\n",
    "18. `previous_cancellations`: Jumlah pemesanan sebelumnya yang dibatalkan oleh tamu/pemesan sebelum pemesanan saat ini.\n",
    "19. `previous_bookings_not_canceled`: Jumlah pemesanan sebelumnya yang tidak dibatalkan oleh tamu/pemesan sebelum pemesanan saat ini.\n",
    "20. `booking_changes`: Jumlah perubahan yang dilakukan pada pemesanan dari saat pemesanan hingga saat check-in atau pembatalan.\n",
    "21. `deposit_type`: \"No Deposit\" – tanpa deposit; \"Non Refund\" – deposit senilai total biaya menginap; \"Refundable\" – deposit dengan nilai di bawah total biaya menginap.\n",
    "22. `agent`: ID agen perjalanan yang melakukan pemesanan.\n",
    "23. `company`: ID perusahaan/entitas yang melakukan pemesanan atau bertanggung jawab atas pembayaran pemesanan.\n",
    "24. `days_in_waiting_list`: Jumlah hari pemesanan berada dalam daftar tunggu sebelum dikonfirmasi kepada tamu/pemesan.\n",
    "25. `customer_type`: Kategori tamu/pemesan.\n",
    "26. `adr`: Tarif Harian Rata-rata (dihitung dengan membagi jumlah semua transaksi akomodasi dengan total jumlah malam menginap).\n",
    "27. `required_car_parking_spaces`: Jumlah tempat parkir mobil yang diperlukan oleh tamu/pemesan.\n",
    "28. `total_of_special_requests`: Jumlah permintaan khusus yang dibuat oleh tamu/pemesan (misalnya, tempat tidur twin atau lantai tinggi).\n",
    "29. `reservation_status`: Status pemesanan."
   ]
  },
  {
   "cell_type": "markdown",
   "id": "a5127a73",
   "metadata": {},
   "source": [
    "Selain meninjau nama-nama kolom, penting untuk memeriksa tipe data yang digunakan untuk masing-masing kolom. Terdapat beberapa tipe data yang perlu diperhatikan karena kurang sesuai dengan representasi sebenarnya.\n",
    "\n",
    "- `children`: Karena jumlah anak selalu berupa bilangan bulat, tipe data float tidak relevan. Oleh karena itu, kolom ini perlu diubah menjadi tipe data integer.\n",
    "\n",
    "- `agent` dan `company`: Meskipun kedua kolom ini berisi angka, mereka hanya berfungsi sebagai ID dan tidak akan dioperasikan secara matematis. Oleh karena itu, lebih tepat untuk mengubah tipe data menjadi string. Hal ini akan mempermudah analisis statistik dan memastikan bahwa data ini tidak dianggap sebagai data numerik.\n",
    "\n",
    "- `is_canceled` dan `is_repeated_guest`: Kedua kolom ini memuat nilai biner, yang dapat diartikan sebagai True atau False. Mengubahnya menjadi tipe data boolean akan membuat analisis statistik lebih mudah dipahami dan memastikan bahwa data ini tidak dianggap sebagai data numerik.\n",
    "\n",
    "Dengan melakukan penyesuaian (yang akan dilakukan setelah penanganan duplikat dan missing value), tipe data akan lebih konsisten dengan sifat sebenarnya dari data yang direpresentasikan oleh kolom tersebut, memungkinkan analisis yang lebih tepat dan informatif."
   ]
  },
  {
   "cell_type": "markdown",
   "id": "0c51dfaf",
   "metadata": {
    "tags": []
   },
   "source": [
    "## Duplicated Values Handling"
   ]
  },
  {
   "cell_type": "code",
   "execution_count": 101,
   "id": "58123ea4",
   "metadata": {},
   "outputs": [
    {
     "name": "stdout",
     "output_type": "stream",
     "text": [
      "Jumlah baris duplikat sebelum pengapusan: 33261\n"
     ]
    }
   ],
   "source": [
    "# Mengecek jumlah baris data duplikat\n",
    "print('Jumlah baris duplikat sebelum pengapusan: ' + str(hotel_df.duplicated().sum()))"
   ]
  },
  {
   "cell_type": "code",
   "execution_count": 102,
   "id": "db6e6a47",
   "metadata": {},
   "outputs": [],
   "source": [
    "# Menghapus baris data duplikat\n",
    "hotel_df.drop_duplicates(inplace= True)"
   ]
  },
  {
   "cell_type": "code",
   "execution_count": 103,
   "id": "9500f3e5",
   "metadata": {},
   "outputs": [
    {
     "name": "stdout",
     "output_type": "stream",
     "text": [
      "Jumlah duplikat setelah penghapusan duplikat: 0\n",
      "Jumlah baris setelah penghapusan duplikat: 86129\n"
     ]
    }
   ],
   "source": [
    "# Mengecek hasil penghapusan baris data duplikat\n",
    "print('Jumlah duplikat setelah penghapusan duplikat: ' + str(hotel_df.duplicated().sum()))\n",
    "print('Jumlah baris setelah penghapusan duplikat: ' + str(hotel_df.shape[0]))"
   ]
  },
  {
   "cell_type": "markdown",
   "id": "acfb527a",
   "metadata": {
    "tags": []
   },
   "source": [
    "## Missing Values Handling"
   ]
  },
  {
   "cell_type": "code",
   "execution_count": 104,
   "id": "1779ec1f",
   "metadata": {},
   "outputs": [
    {
     "data": {
      "text/plain": [
       "hotel                                 0\n",
       "is_canceled                           0\n",
       "lead_time                             0\n",
       "arrival_date_year                     0\n",
       "arrival_date_month                    0\n",
       "arrival_date_week_number              0\n",
       "arrival_date_day_of_month             0\n",
       "stays_in_weekend_nights               0\n",
       "stays_in_weekdays_nights              0\n",
       "adults                                0\n",
       "children                              4\n",
       "babies                                0\n",
       "meal                                  0\n",
       "city                                450\n",
       "market_segment                        0\n",
       "distribution_channel                  0\n",
       "is_repeated_guest                     0\n",
       "previous_cancellations                0\n",
       "previous_bookings_not_canceled        0\n",
       "booking_changes                       0\n",
       "deposit_type                          0\n",
       "agent                             11941\n",
       "company                           81019\n",
       "days_in_waiting_list                  0\n",
       "customer_type                         0\n",
       "adr                                   0\n",
       "required_car_parking_spaces           0\n",
       "total_of_special_requests             0\n",
       "reservation_status                    0\n",
       "dtype: int64"
      ]
     },
     "execution_count": 104,
     "metadata": {},
     "output_type": "execute_result"
    }
   ],
   "source": [
    "# Mengecek kolom yang memiliki null valuespada dataset\n",
    "hotel_df.isnull().sum()"
   ]
  },
  {
   "cell_type": "code",
   "execution_count": 105,
   "id": "1a5bb3a7",
   "metadata": {},
   "outputs": [
    {
     "name": "stdout",
     "output_type": "stream",
     "text": [
      "Presentase null pada kolom children : 0.004644196495953744\n",
      "Presentase null pada kolom city : 0.5224721057947962\n",
      "Presentase null pada kolom agent : 13.864087589545914\n",
      "Presentase null pada kolom company : 94.0670389764191\n"
     ]
    }
   ],
   "source": [
    "# Mengecek persentase null value terhadap total baris data\n",
    "null_column = ['children', 'city', 'agent', 'company']\n",
    "\n",
    "for col in null_column:\n",
    "    null_percentage = (hotel_df[col].isnull().sum()) / (hotel_df.shape[0]) * 100\n",
    "    print('Presentase null pada kolom {} : {}'.format(col, null_percentage))"
   ]
  },
  {
   "cell_type": "markdown",
   "id": "b0111f1f",
   "metadata": {},
   "source": [
    "Dapat diamati bahwa terdapat 4 kolom dengan null value. Persentase null value pada `children` dan `city` tergolong rendah, yakni di bawah 1%. Oleh karena itu, saya memutuskan untuk menghapus baris-baris dengan null value pada kedua kolom tersebut. Namun, kolom `agent` memiliki persentase null value yang cukup tinggi, mencapai 13%. Sedangkan, persentase null value pada kolom `company` sangat tinggi, yaitu mencapai 94%. Oleh karena itu, diperlukan analisis lebih lanjut untuk menentukan langkah yang tepat dalam penanganannya."
   ]
  },
  {
   "cell_type": "markdown",
   "id": "498c25a1",
   "metadata": {},
   "source": [
    "### `children` & `city` null values handling"
   ]
  },
  {
   "cell_type": "code",
   "execution_count": 106,
   "id": "508dd20a",
   "metadata": {},
   "outputs": [],
   "source": [
    "# Menghapus null value pada kolom 'children' dan 'city'\n",
    "hotel_df.dropna(subset= ['children', 'city'], inplace= True)"
   ]
  },
  {
   "cell_type": "markdown",
   "id": "bc631f94",
   "metadata": {},
   "source": [
    "### `agent` & `company` null values handling"
   ]
  },
  {
   "cell_type": "markdown",
   "id": "2765b3ee",
   "metadata": {},
   "source": [
    "Sebelum menentukan tindakan yang tepat untuk menangani null value pada kolom `agent` dan `company`, mari kita lakukan analisa terlebih dahulu. \n",
    "\n",
    "Kedua kolom ini berisi data entitas bisnis yang melakukan pemesanan mewakili tamu. Akan tetapi dalam praktiknya, sangat umum pemesan melakukan pemesanan sebagai individu dan bukan entitas bisnis. Pemesanan semacam ini mungkin terkait dengan orang perorangan yang melakukan pemesanan untuk diri mereka sendiri, mewakili anggota keluarga, atau bahkan dalam konteks grup.\n",
    "\n",
    "Untuk memverifikasi hal ini, kita dapat melakukan pemeriksaan terhadap kolom `customer_type` untuk memberikan wawasan tentang kategori tamu."
   ]
  },
  {
   "cell_type": "code",
   "execution_count": 107,
   "id": "52578dde",
   "metadata": {},
   "outputs": [
    {
     "data": {
      "text/plain": [
       "customer_type\n",
       "Bussiness      535\n",
       "Contract      3125\n",
       "Family       10780\n",
       "Personal     71235\n",
       "Name: count, dtype: int64"
      ]
     },
     "execution_count": 107,
     "metadata": {},
     "output_type": "execute_result"
    }
   ],
   "source": [
    "# Grouping kategori tamu/pemesan\n",
    "hotel_df.groupby('customer_type')['customer_type'].value_counts()"
   ]
  },
  {
   "cell_type": "markdown",
   "id": "e961fe73",
   "metadata": {},
   "source": [
    "Berdasarkan analisis terhadap kolom `customer_type`, terdapat empat nilai unik yang mewakili berbagai jenis tamu/pemesan. Tampak jelas bahwa kategori \"Personal\" merupakan yang paling umum, menunjukkan bahwa sebagian besar pemesanan dilakukan oleh individu. Sebaliknya, kategori \"Business\" mencatatkan jumlah pemesanan yang paling sedikit. Ini menandakan bahwa bisnis atau entitas korporat mungkin tidak terlibat secara signifikan dalam pemesanan di dataset ini. Dalam kasus ini, pemesanan atas nama individu mungkin lebih umum, dan karenanya, ID untuk agen atau perusahaan tidak selalu tercatat.\n",
    "\n",
    "Berdasarkan hal tersebut di atas, saya memutuskan untuk menambahkan angka 1234 pada kolom `agent` dan `company` untuk mewakili pemesanan yang tidak dilakukan melalui agen atau perusahaan. Pemilihan angka tersebut didasarkan pada nilai ID yang hanya terdiri dari 1 hingga 3 digit angka, sehingga dengan menggunakan 4 digit angka bisa menjadi pembeda dari nilai ID lain."
   ]
  },
  {
   "cell_type": "code",
   "execution_count": 109,
   "id": "32fdd134",
   "metadata": {},
   "outputs": [],
   "source": [
    "# Mengisi null value pada kolom 'agent' dan 'company'\n",
    "hotel_df[['agent', 'company']] = hotel_df[['agent', 'company']].fillna(1234)"
   ]
  },
  {
   "cell_type": "code",
   "execution_count": 110,
   "id": "16549861",
   "metadata": {},
   "outputs": [
    {
     "data": {
      "text/plain": [
       "hotel                             0\n",
       "is_canceled                       0\n",
       "lead_time                         0\n",
       "arrival_date_year                 0\n",
       "arrival_date_month                0\n",
       "arrival_date_week_number          0\n",
       "arrival_date_day_of_month         0\n",
       "stays_in_weekend_nights           0\n",
       "stays_in_weekdays_nights          0\n",
       "adults                            0\n",
       "children                          0\n",
       "babies                            0\n",
       "meal                              0\n",
       "city                              0\n",
       "market_segment                    0\n",
       "distribution_channel              0\n",
       "is_repeated_guest                 0\n",
       "previous_cancellations            0\n",
       "previous_bookings_not_canceled    0\n",
       "booking_changes                   0\n",
       "deposit_type                      0\n",
       "agent                             0\n",
       "company                           0\n",
       "days_in_waiting_list              0\n",
       "customer_type                     0\n",
       "adr                               0\n",
       "required_car_parking_spaces       0\n",
       "total_of_special_requests         0\n",
       "reservation_status                0\n",
       "dtype: int64"
      ]
     },
     "execution_count": 110,
     "metadata": {},
     "output_type": "execute_result"
    }
   ],
   "source": [
    "# Mengecek hasil setelah missing values handling\n",
    "hotel_df.isnull().sum()"
   ]
  },
  {
   "cell_type": "markdown",
   "id": "86e7aa28",
   "metadata": {},
   "source": [
    "## Penyesuaian Tipe Data"
   ]
  },
  {
   "cell_type": "markdown",
   "id": "62539fd5",
   "metadata": {},
   "source": [
    "Dalam kasus project ini, saya melakukan proses penyesuaian tipe data setelah menangani duplikat dan missing value karena untuk terjadi error ketika akan mengubah tipe data kolom yang memiliki null value."
   ]
  },
  {
   "cell_type": "markdown",
   "id": "20a7a67a",
   "metadata": {},
   "source": [
    "### `children`: numeric to proper numeric"
   ]
  },
  {
   "cell_type": "code",
   "execution_count": 111,
   "id": "ee1330dd",
   "metadata": {
    "scrolled": true
   },
   "outputs": [],
   "source": [
    "# Mengubah tipe data kolom 'children' dari float ke integer\n",
    "hotel_df['children'] = hotel_df['children'].astype(int)"
   ]
  },
  {
   "cell_type": "markdown",
   "id": "ee8998e1",
   "metadata": {},
   "source": [
    "### `agent`, `company`: numeric to string"
   ]
  },
  {
   "cell_type": "code",
   "execution_count": 112,
   "id": "2197a7cf",
   "metadata": {},
   "outputs": [],
   "source": [
    "# Mengubah tipe data kolom 'agent' dan 'company' dari float ke string\n",
    "hotel_df[['agent', 'company']] = hotel_df[['agent', 'company']].astype(str)\n",
    "\n",
    "# Menghilangkan nilai desimal dari string\n",
    "hotel_df['agent'] = hotel_df['agent'].str.rstrip('.0')\n",
    "hotel_df['company'] = hotel_df['company'].str.rstrip('.0')"
   ]
  },
  {
   "cell_type": "markdown",
   "id": "dd82d94c",
   "metadata": {},
   "source": [
    "### `is_canceled`, `is_repeated_guest`: integer to boolean"
   ]
  },
  {
   "cell_type": "code",
   "execution_count": 115,
   "id": "d24bd935",
   "metadata": {},
   "outputs": [],
   "source": [
    "# Mengubah tipe data kolom 'is_canceled' dan 'is_repeated_guest' dari integer ke boolean\n",
    "hotel_df[['is_canceled', 'is_repeated_guest']] = hotel_df[['is_canceled', 'is_repeated_guest']].astype(bool)"
   ]
  },
  {
   "cell_type": "code",
   "execution_count": 116,
   "id": "79b4c0bc",
   "metadata": {},
   "outputs": [
    {
     "name": "stdout",
     "output_type": "stream",
     "text": [
      "<class 'pandas.core.frame.DataFrame'>\n",
      "Index: 85675 entries, 0 to 119389\n",
      "Data columns (total 29 columns):\n",
      " #   Column                          Non-Null Count  Dtype  \n",
      "---  ------                          --------------  -----  \n",
      " 0   hotel                           85675 non-null  object \n",
      " 1   is_canceled                     85675 non-null  bool   \n",
      " 2   lead_time                       85675 non-null  int64  \n",
      " 3   arrival_date_year               85675 non-null  int64  \n",
      " 4   arrival_date_month              85675 non-null  object \n",
      " 5   arrival_date_week_number        85675 non-null  int64  \n",
      " 6   arrival_date_day_of_month       85675 non-null  int64  \n",
      " 7   stays_in_weekend_nights         85675 non-null  int64  \n",
      " 8   stays_in_weekdays_nights        85675 non-null  int64  \n",
      " 9   adults                          85675 non-null  int64  \n",
      " 10  children                        85675 non-null  int32  \n",
      " 11  babies                          85675 non-null  int64  \n",
      " 12  meal                            85675 non-null  object \n",
      " 13  city                            85675 non-null  object \n",
      " 14  market_segment                  85675 non-null  object \n",
      " 15  distribution_channel            85675 non-null  object \n",
      " 16  is_repeated_guest               85675 non-null  bool   \n",
      " 17  previous_cancellations          85675 non-null  int64  \n",
      " 18  previous_bookings_not_canceled  85675 non-null  int64  \n",
      " 19  booking_changes                 85675 non-null  int64  \n",
      " 20  deposit_type                    85675 non-null  object \n",
      " 21  agent                           85675 non-null  object \n",
      " 22  company                         85675 non-null  object \n",
      " 23  days_in_waiting_list            85675 non-null  int64  \n",
      " 24  customer_type                   85675 non-null  object \n",
      " 25  adr                             85675 non-null  float64\n",
      " 26  required_car_parking_spaces     85675 non-null  int64  \n",
      " 27  total_of_special_requests       85675 non-null  int64  \n",
      " 28  reservation_status              85675 non-null  object \n",
      "dtypes: bool(2), float64(1), int32(1), int64(14), object(11)\n",
      "memory usage: 18.1+ MB\n"
     ]
    }
   ],
   "source": [
    "hotel_df.info()"
   ]
  },
  {
   "cell_type": "markdown",
   "id": "8e6083c2",
   "metadata": {},
   "source": [
    "## Memastikan konsistensi data kategorikal"
   ]
  },
  {
   "cell_type": "markdown",
   "id": "86a4a5a5-4c91-44bf-9361-ca6b9c29fcdb",
   "metadata": {},
   "source": [
    "Pada proses ini, saya akan melakukan perubahan nilai pada kolom-kolom kategorikal menjadi lowercase. Hal ini bertujuan agar tidak ada nilai yang berbeda yang memiliki arti sama karena perbedaan penggunaan upper/lowercase."
   ]
  },
  {
   "cell_type": "code",
   "execution_count": 117,
   "id": "a185750a",
   "metadata": {},
   "outputs": [
    {
     "data": {
      "text/plain": [
       "['hotel',\n",
       " 'arrival_date_month',\n",
       " 'meal',\n",
       " 'city',\n",
       " 'market_segment',\n",
       " 'distribution_channel',\n",
       " 'deposit_type',\n",
       " 'agent',\n",
       " 'company',\n",
       " 'customer_type',\n",
       " 'reservation_status']"
      ]
     },
     "execution_count": 117,
     "metadata": {},
     "output_type": "execute_result"
    }
   ],
   "source": [
    "# Membuat list berisi kolom-kolom kategorikal\n",
    "cat_columns = hotel_df.select_dtypes(include=['object']).columns.tolist()\n",
    "cat_columns"
   ]
  },
  {
   "cell_type": "code",
   "execution_count": 118,
   "id": "1d2dc358",
   "metadata": {},
   "outputs": [],
   "source": [
    "# Mengubah semua nilai pada kolom kategorikal menjadi lowercase\n",
    "for col in cat_columns:\n",
    "    hotel_df[col] = hotel_df[col].str.lower()"
   ]
  },
  {
   "cell_type": "code",
   "execution_count": 119,
   "id": "7ed35973-de1b-445a-a265-06ab5b445eaa",
   "metadata": {},
   "outputs": [],
   "source": [
    "hotel_df_clean = hotel_df.copy()"
   ]
  },
  {
   "cell_type": "code",
   "execution_count": null,
   "id": "2b9b3438-95dd-4946-a5fa-4935232901cd",
   "metadata": {},
   "outputs": [],
   "source": []
  }
 ],
 "metadata": {
  "kernelspec": {
   "display_name": "Python 3 (ipykernel)",
   "language": "python",
   "name": "python3"
  },
  "language_info": {
   "codemirror_mode": {
    "name": "ipython",
    "version": 3
   },
   "file_extension": ".py",
   "mimetype": "text/x-python",
   "name": "python",
   "nbconvert_exporter": "python",
   "pygments_lexer": "ipython3",
   "version": "3.10.9"
  }
 },
 "nbformat": 4,
 "nbformat_minor": 5
}
